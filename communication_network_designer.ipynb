{
 "cells": [
  {
   "cell_type": "code",
   "execution_count": null,
   "id": "dfd98554",
   "metadata": {
    "scrolled": true
   },
   "outputs": [],
   "source": [
    "import pandas as pd\n",
    "import numpy as np\n",
    "import igraph as ig\n",
    "\n",
    "# Import the city data.\n",
    "raw = []\n",
    "with open('input.txt','r') as f:\n",
    "    for line in f:\n",
    "        if line.strip()[0] != \"#\":\n",
    "            raw.append(line.split())\n",
    "            \n",
    "n_cities = int(raw[0][0])\n",
    "reliability_1d = np.asarray(raw[1], dtype='double')\n",
    "cost_1d = np.asarray(raw[2], dtype='int')\n",
    "\n",
    "# Convert the 1D matrices to 2D.\n",
    "def convert_to_2d(size, arr1d):\n",
    "    new_array = np.zeros((size, size))\n",
    "    k = 0\n",
    "    for i in range(0, size):\n",
    "        for j in range(i + 1, size):\n",
    "            new_array[i][j] = arr1d[k]\n",
    "            k = k + 1\n",
    "    return new_array\n",
    "\n",
    "reliability = convert_to_2d(n_cities, reliability_1d)\n",
    "cost = convert_to_2d(n_cities, cost_1d)\n",
    "\n",
    "# Print matrices and extracted information.\n",
    "print(\"Number of cities: \" + str(n_cities))\n",
    "print(\"Reliability matrix:\")\n",
    "print(reliability)\n",
    "print(\"Cost matrix:\")\n",
    "print(cost)\n",
    "\n",
    "# Create reliability graph.\n",
    "graph = ig.Graph.Weighted_Adjacency(reliability).as_undirected()\n",
    "graph.es[\"reliability\"] = reliability_1d\n",
    "graph.es[\"cost\"] = cost_1d\n",
    "graph.es[\"curved\"] = [False for i in reliability_1d]\n",
    "graph.vs[\"label\"] = range(n_cities)"
   ]
  },
  {
   "cell_type": "code",
   "execution_count": null,
   "id": "63004a95",
   "metadata": {},
   "outputs": [],
   "source": [
    "# Plot reliability graph.\n",
    "ig.plot(graph, edge_label=[str(r) for r in graph.es[\"reliability\"]])"
   ]
  },
  {
   "cell_type": "code",
   "execution_count": null,
   "id": "844f1277",
   "metadata": {},
   "outputs": [],
   "source": [
    "# Plot cost graph.\n",
    "ig.plot(graph, edge_label=[str(c) for c in graph.es[\"cost\"]])"
   ]
  },
  {
   "cell_type": "code",
   "execution_count": null,
   "id": "ff152f26",
   "metadata": {},
   "outputs": [],
   "source": [
    "# Find the MST (minimum spanning tree) using Kruskal's algorithm. 1 - r = u, so minimize unreliability.\n",
    "mst_graph = reliability_graph.spanning_tree(weights=[1 - r for r in graph.es[\"reliability\"]])"
   ]
  },
  {
   "cell_type": "code",
   "execution_count": null,
   "id": "702167f8",
   "metadata": {},
   "outputs": [],
   "source": [
    "# Plot the MST graph (optimized for minimum unreliability),\n",
    "ig.plot(mst_graph, edge_label=[str(r) for r in mst_graph.es[\"reliability\"]])"
   ]
  },
  {
   "cell_type": "code",
   "execution_count": null,
   "id": "59818967",
   "metadata": {},
   "outputs": [],
   "source": [
    "# Compute cost and reliability for the MST.\n",
    "import functools\n",
    "import operator\n",
    "\n",
    "mst_cost = sum(mst_graph.es[\"cost\"])\n",
    "# Since it's a minimum spanning tree, if any of the edges has failed, the entire system has failed.\n",
    "mst_reliability = functools.reduce(operator.mul, mst_graph.es[\"reliability\"])\n",
    "\n",
    "print(f\"The reliability of the MST is {mst_reliability:.3f} and its cost is {mst_cost}.\")"
   ]
  },
  {
   "cell_type": "code",
   "execution_count": null,
   "id": "54ed5044",
   "metadata": {},
   "outputs": [],
   "source": []
  }
 ],
 "metadata": {
  "kernelspec": {
   "display_name": "Python 3 (ipykernel)",
   "language": "python",
   "name": "python3"
  },
  "language_info": {
   "codemirror_mode": {
    "name": "ipython",
    "version": 3
   },
   "file_extension": ".py",
   "mimetype": "text/x-python",
   "name": "python",
   "nbconvert_exporter": "python",
   "pygments_lexer": "ipython3",
   "version": "3.9.10"
  }
 },
 "nbformat": 4,
 "nbformat_minor": 5
}
