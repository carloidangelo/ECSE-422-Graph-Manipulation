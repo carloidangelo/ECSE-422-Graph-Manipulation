{
 "cells": [
  {
   "cell_type": "code",
   "execution_count": null,
   "id": "dfd98554",
   "metadata": {
    "scrolled": true
   },
   "outputs": [],
   "source": [
    "import pandas as pd\n",
    "import numpy as np\n",
    "import igraph as ig\n",
    "\n",
    "# Import the city data.\n",
    "raw = []\n",
    "with open('input.txt','r') as f:\n",
    "    for line in f:\n",
    "        if line.strip()[0] != \"#\":\n",
    "            raw.append(line.split())\n",
    "            \n",
    "n_cities = int(raw[0][0])\n",
    "reliability_1d = np.asarray(raw[1], dtype='double')\n",
    "cost_1d = np.asarray(raw[2], dtype='int')\n",
    "\n",
    "# Convert the 1D matrices to 2D.\n",
    "def convert_to_2d(size, arr1d):\n",
    "    new_array = np.zeros((size, size))\n",
    "    k = 0\n",
    "    for i in range(0, size):\n",
    "        for j in range(i + 1, size):\n",
    "            new_array[i][j] = arr1d[k]\n",
    "            k = k + 1\n",
    "    return new_array\n",
    "\n",
    "reliability = convert_to_2d(n_cities, reliability_1d)\n",
    "cost = convert_to_2d(n_cities, cost_1d)\n",
    "\n",
    "# Print matrices and extracted information.\n",
    "print(\"Number of cities: \" + str(n_cities))\n",
    "print(\"Reliability matrix:\")\n",
    "print(reliability)\n",
    "print(\"Cost matrix:\")\n",
    "print(cost)\n",
    "\n",
    "# Create reliability graph.\n",
    "reliability_graph = ig.Graph.Weighted_Adjacency(reliability).as_undirected()\n",
    "reliability_graph.es[\"label\"] = [str(i) for i in reliability_1d]\n",
    "reliability_graph.es[\"curved\"] = [False for i in reliability_1d]\n",
    "reliability_graph.vs[\"label\"] = range(n_cities)\n",
    "\n",
    "# Create cost graph.\n",
    "cost_graph = ig.Graph.Weighted_Adjacency(cost).as_undirected()\n",
    "cost_graph.es[\"label\"] = [str(i) for i in cost_1d]\n",
    "cost_graph.es[\"curved\"] = [False for i in cost_1d]\n",
    "cost_graph.vs[\"label\"] = range(n_cities)"
   ]
  },
  {
   "cell_type": "code",
   "execution_count": null,
   "id": "010fb36d",
   "metadata": {},
   "outputs": [],
   "source": [
    "# Plot reliability graph.\n",
    "ig.plot(reliability_graph)"
   ]
  },
  {
   "cell_type": "code",
   "execution_count": null,
   "id": "79017ec5",
   "metadata": {},
   "outputs": [],
   "source": [
    "# Plot cost graph.\n",
    "ig.plot(cost_graph)"
   ]
  },
  {
   "cell_type": "code",
   "execution_count": null,
   "id": "2bb47db7",
   "metadata": {},
   "outputs": [],
   "source": []
  }
 ],
 "metadata": {
  "kernelspec": {
   "display_name": "Python 3 (ipykernel)",
   "language": "python",
   "name": "python3"
  },
  "language_info": {
   "codemirror_mode": {
    "name": "ipython",
    "version": 3
   },
   "file_extension": ".py",
   "mimetype": "text/x-python",
   "name": "python",
   "nbconvert_exporter": "python",
   "pygments_lexer": "ipython3",
   "version": "3.9.10"
  }
 },
 "nbformat": 4,
 "nbformat_minor": 5
}
