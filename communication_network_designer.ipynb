{
 "cells": [
  {
   "cell_type": "code",
   "execution_count": null,
   "id": "dfd98554",
   "metadata": {
    "scrolled": true
   },
   "outputs": [],
   "source": [
    "import pandas as pd\n",
    "import numpy as np\n",
    "import igraph as ig\n",
    "\n",
    "# Import the city data.\n",
    "raw = []\n",
    "with open('input.txt','r') as f:\n",
    "    for line in f:\n",
    "        if line.strip()[0] != \"#\":\n",
    "            raw.append(line.split())\n",
    "            \n",
    "n_cities = int(raw[0][0])\n",
    "reliability_1d = np.asarray(raw[1], dtype='double')\n",
    "cost_1d = np.asarray(raw[2], dtype='int')\n",
    "\n",
    "# Convert the 1D matrices to 2D.\n",
    "def convert_to_2d(size, arr1d):\n",
    "    new_array = np.zeros((size, size))\n",
    "    k = 0\n",
    "    for i in range(0, size):\n",
    "        for j in range(i + 1, size):\n",
    "            new_array[i][j] = arr1d[k]\n",
    "            k = k + 1\n",
    "    return new_array\n",
    "\n",
    "reliability = convert_to_2d(n_cities, reliability_1d)\n",
    "cost = convert_to_2d(n_cities, cost_1d)\n",
    "\n",
    "# Print matrices and extracted information.\n",
    "print(\"Number of cities: \" + str(n_cities))\n",
    "print(\"Reliability matrix:\")\n",
    "print(reliability)\n",
    "print(\"Cost matrix:\")\n",
    "print(cost)\n",
    "\n",
    "# Create reliability graph.\n",
    "graph = ig.Graph.Weighted_Adjacency(reliability).as_undirected()\n",
    "graph.es[\"reliability\"] = reliability_1d\n",
    "graph.es[\"cost\"] = cost_1d\n",
    "graph.es[\"curved\"] = [False for i in reliability_1d]\n",
    "graph.vs[\"label\"] = range(n_cities)"
   ]
  },
  {
   "cell_type": "code",
   "execution_count": null,
   "id": "fd5d1cc6",
   "metadata": {},
   "outputs": [],
   "source": [
    "# Create reliability graph.\n",
    "# Create list of edges\n",
    "def find_edges(size, arr2d):\n",
    "    new_array = []\n",
    "    k = 0\n",
    "    for i in range(0, size):\n",
    "        for j in range(i + 1, size):\n",
    "            if (arr2d[i][j] != 0):\n",
    "                new_array.append((i,j))\n",
    "    return new_array\n",
    "\n",
    "graph = ig.Graph()\n",
    "graph.add_vertices(n_cities)\n",
    "graph.add_edges(find_edges(n_cities,reliability))\n",
    "graph.es['reliability'] = reliability_1d\n",
    "graph.es[\"cost\"] = cost_1d\n",
    "graph.es[\"curved\"] = [False for i in reliability_1d]\n",
    "graph.vs[\"label\"] = list(range(n_cities))"
   ]
  },
  {
   "cell_type": "code",
   "execution_count": null,
   "id": "63004a95",
   "metadata": {},
   "outputs": [],
   "source": [
    "# Plot reliability graph.\n",
    "ig.plot(graph, edge_label=[str(r) for r in graph.es[\"reliability\"]], vertex_label=[str(r) for r in graph.vs[\"label\"]])"
   ]
  },
  {
   "cell_type": "code",
   "execution_count": null,
   "id": "844f1277",
   "metadata": {},
   "outputs": [],
   "source": [
    "# Plot cost graph.\n",
    "ig.plot(graph, edge_label=[str(c) for c in graph.es[\"cost\"]])"
   ]
  },
  {
   "cell_type": "code",
   "execution_count": null,
   "id": "ff152f26",
   "metadata": {},
   "outputs": [],
   "source": [
    "# Find the MST (minimum spanning tree) using Kruskal's algorithm. 1 - r = u, so minimize unreliability.\n",
    "mst_graph = graph.spanning_tree(weights=[1 - r for r in graph.es[\"reliability\"]])"
   ]
  },
  {
   "cell_type": "code",
   "execution_count": null,
   "id": "702167f8",
   "metadata": {},
   "outputs": [],
   "source": [
    "# Plot the MST graph (optimized for minimum unreliability),\n",
    "ig.plot(mst_graph, edge_label=[str(r) for r in mst_graph.es[\"reliability\"]])"
   ]
  },
  {
   "cell_type": "code",
   "execution_count": null,
   "id": "59818967",
   "metadata": {},
   "outputs": [],
   "source": [
    "# Compute cost and reliability for the MST.\n",
    "import functools\n",
    "import operator\n",
    "\n",
    "mst_cost = sum(mst_graph.es[\"cost\"])\n",
    "# Since it's a minimum spanning tree, if any of the edges has failed, the entire system has failed.\n",
    "mst_reliability = functools.reduce(operator.mul, mst_graph.es[\"reliability\"])\n",
    "\n",
    "print(f\"The reliability of the MST is {mst_reliability:.3f} and its cost is {mst_cost}.\")"
   ]
  },
  {
   "cell_type": "code",
   "execution_count": null,
   "id": "2cf29fee",
   "metadata": {},
   "outputs": [],
   "source": [
    "# remove edge from graph and return new graph\n",
    "def remove_edge(graph, edge):\n",
    "    new_graph = graph.copy()\n",
    "    new_graph.delete_edges([edge])\n",
    "    return new_graph\n",
    "\n",
    "# contract vertices in graph and return new graph\n",
    "def contract_vertices(graph, edge):\n",
    "    new_graph = graph.copy()\n",
    "    new_labels = new_graph.vs[\"label\"]\n",
    "    vertice_count = new_graph.vcount()\n",
    "    vertices = list(range(vertice_count))\n",
    "    dead_vertice = min(edge)\n",
    "    surviving_vertice = max(edge)\n",
    "    vertices[dead_vertice] = surviving_vertice\n",
    "    new_graph.contract_vertices(vertices)\n",
    "    new_graph.delete_edges([(surviving_vertice,surviving_vertice)])\n",
    "    new_graph.delete_vertices(dead_vertice)\n",
    "    new_labels.remove(dead_vertice)\n",
    "    new_graph.vs[\"label\"] = new_labels\n",
    "    return new_graph\n",
    "    \n",
    "# find reliability by using edge decomposition recursively\n",
    "def find_graphR(graph):\n",
    "    if (graph.is_tree):\n",
    "        r = functools.reduce(operator.mul, graph.es[\"reliability\"])\n",
    "        return r\n",
    "    else:\n",
    "        edges = graph.get_edgelist()\n",
    "        reliabilities = graph.es[\"reliability\"]\n",
    "        max_r = max(reliabilities)\n",
    "        index = reliabilities.index(max_r)\n",
    "        edge_r = edges[index]\n",
    "        graph_without_edge = remove_edge(graph, edge_r)\n",
    "        graph_with_edge = contract_vertices(graph, edge_r)\n",
    "        return (1-max_r)*find_graphR(graph_without_edge) + max_r*find_graphR(graph_with_edge)"
   ]
  },
  {
   "cell_type": "code",
   "execution_count": null,
   "id": "d348c86b",
   "metadata": {},
   "outputs": [],
   "source": [
    "new_graph = contract_vertices(mst_graph, (0,3))\n",
    "\n",
    "# Plot the MST graph (optimized for minimum unreliability),\n",
    "ig.plot(new_graph, edge_label=[str(r) for r in new_graph.es[\"reliability\"]])"
   ]
  },
  {
   "cell_type": "code",
   "execution_count": null,
   "id": "73d6aae5",
   "metadata": {},
   "outputs": [],
   "source": [
    "original_edge_list = graph.get_edgelist()\n",
    "original_reliabilty_list = graph.es[\"reliability\"]\n",
    "mst_edge_list = mst_graph.get_edgelist()\n",
    "mst_reliabilty_list = mst_graph.es[\"reliability\"]\n",
    "print(original_edge_list)\n",
    "print(original_reliabilty_list)\n",
    "print(mst_edge_list)\n",
    "print(mst_reliabilty_list)\n",
    "\n",
    "new_edge_list = original_edge_list.copy()\n",
    "for x in mst_edge_list:\n",
    "    new_edge_list.remove(x)\n",
    "print(new_edge_list)\n",
    "\n",
    "edge = new_edge_list[0]\n",
    "print(edge)\n",
    "\n",
    "# find new graph\n",
    "def get_target_graph(r_goal, mst, remaining_edges, original_reliabilities, original_edges):\n",
    "    mst_reliability = 0\n",
    "    new_graph = mst.copy()\n",
    "    for y in range(remaining_edges):\n",
    "        # add new edge to graph\n",
    "        new_graph.add_edges([y]) \n",
    "        \n",
    "        # find corresponding reliability and add it to graph\n",
    "        \n",
    "        # calculate new reliability\n",
    "        mst_reliability = functools.reduce(operator.mul, new_graph.es[\"reliability\"])\n",
    "        if mst_reliability >= r_goal:\n",
    "            break;\n",
    "    return new_graph, mst_reliability\n",
    "\n",
    "#r_graph, r = get_target_graph(0.9, mst_graph, new_edge_list, original_reliabilty_list, original_edge_list)\n",
    "#print(r)"
   ]
  }
 ],
 "metadata": {
  "kernelspec": {
   "display_name": "Python 3 (ipykernel)",
   "language": "python",
   "name": "python3"
  },
  "language_info": {
   "codemirror_mode": {
    "name": "ipython",
    "version": 3
   },
   "file_extension": ".py",
   "mimetype": "text/x-python",
   "name": "python",
   "nbconvert_exporter": "python",
   "pygments_lexer": "ipython3",
   "version": "3.10.4"
  }
 },
 "nbformat": 4,
 "nbformat_minor": 5
}
